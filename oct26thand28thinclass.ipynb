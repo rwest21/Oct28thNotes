{
 "cells": [
  {
   "cell_type": "code",
   "execution_count": 1,
   "id": "0dd2f082",
   "metadata": {},
   "outputs": [],
   "source": [
    "from datetime import datetime"
   ]
  },
  {
   "cell_type": "code",
   "execution_count": 2,
   "id": "49740428",
   "metadata": {},
   "outputs": [],
   "source": [
    "import json\n",
    "import pandas as pd"
   ]
  },
  {
   "cell_type": "code",
   "execution_count": 3,
   "id": "690f2cdb",
   "metadata": {},
   "outputs": [],
   "source": [
    "with open(r\"C:\\Users\\ryno2\\DATAINEMERGINGMEDIA\\post_ryno_20210907\\content\\posts_1.json\")as p:\n",
    "          posts = json.load(p)"
   ]
  },
  {
   "cell_type": "code",
   "execution_count": 4,
   "id": "ef8da418",
   "metadata": {},
   "outputs": [
    {
     "data": {
      "text/plain": [
       "list"
      ]
     },
     "execution_count": 4,
     "metadata": {},
     "output_type": "execute_result"
    }
   ],
   "source": [
    "type(posts)"
   ]
  },
  {
   "cell_type": "code",
   "execution_count": null,
   "id": "abd7e821",
   "metadata": {},
   "outputs": [],
   "source": [
    "posts[0:5]"
   ]
  },
  {
   "cell_type": "code",
   "execution_count": null,
   "id": "8229d010",
   "metadata": {},
   "outputs": [],
   "source": [
    "posts"
   ]
  },
  {
   "cell_type": "code",
   "execution_count": 7,
   "id": "122ee1b3",
   "metadata": {},
   "outputs": [
    {
     "data": {
      "text/plain": [
       "{'uri': 'media/posts/201708/20686656_1954176268136038_3080836232477933568_n_17880278401104486.jpg',\n",
       " 'creation_timestamp': 1501970774,\n",
       " 'title': 'Splatoon complete amiibo set. #splatoon #nintendo #amiibo'}"
      ]
     },
     "execution_count": 7,
     "metadata": {},
     "output_type": "execute_result"
    }
   ],
   "source": [
    "posts[0]['media'][0]"
   ]
  },
  {
   "cell_type": "code",
   "execution_count": 8,
   "id": "d47555b7",
   "metadata": {},
   "outputs": [
    {
     "data": {
      "text/plain": [
       "dict_keys(['media'])"
      ]
     },
     "execution_count": 8,
     "metadata": {},
     "output_type": "execute_result"
    }
   ],
   "source": [
    "posts[0].keys()"
   ]
  },
  {
   "cell_type": "code",
   "execution_count": 9,
   "id": "3017d02a",
   "metadata": {},
   "outputs": [],
   "source": [
    "ig_posts_data = [x['media'][0] for x in posts]"
   ]
  },
  {
   "cell_type": "code",
   "execution_count": 10,
   "id": "7f3fa98c",
   "metadata": {},
   "outputs": [],
   "source": [
    "posts_df = pd.DataFrame(ig_posts_data)"
   ]
  },
  {
   "cell_type": "code",
   "execution_count": 11,
   "id": "96bea28b",
   "metadata": {},
   "outputs": [
    {
     "data": {
      "text/html": [
       "<div>\n",
       "<style scoped>\n",
       "    .dataframe tbody tr th:only-of-type {\n",
       "        vertical-align: middle;\n",
       "    }\n",
       "\n",
       "    .dataframe tbody tr th {\n",
       "        vertical-align: top;\n",
       "    }\n",
       "\n",
       "    .dataframe thead th {\n",
       "        text-align: right;\n",
       "    }\n",
       "</style>\n",
       "<table border=\"1\" class=\"dataframe\">\n",
       "  <thead>\n",
       "    <tr style=\"text-align: right;\">\n",
       "      <th></th>\n",
       "      <th>uri</th>\n",
       "      <th>creation_timestamp</th>\n",
       "      <th>title</th>\n",
       "      <th>media_metadata</th>\n",
       "    </tr>\n",
       "  </thead>\n",
       "  <tbody>\n",
       "    <tr>\n",
       "      <th>0</th>\n",
       "      <td>media/posts/201708/20686656_1954176268136038_3...</td>\n",
       "      <td>1501970774</td>\n",
       "      <td>Splatoon complete amiibo set. #splatoon #ninte...</td>\n",
       "      <td>NaN</td>\n",
       "    </tr>\n",
       "    <tr>\n",
       "      <th>1</th>\n",
       "      <td>media/posts/201708/20634127_502707613406985_36...</td>\n",
       "      <td>1501731832</td>\n",
       "      <td>Zelda amiibo collection plus figures in front ...</td>\n",
       "      <td>NaN</td>\n",
       "    </tr>\n",
       "    <tr>\n",
       "      <th>2</th>\n",
       "      <td>media/posts/202008/117352955_3525450224132145_...</td>\n",
       "      <td>1597084971</td>\n",
       "      <td>@owelband - \"I Dread The Night\" on red lathe c...</td>\n",
       "      <td>NaN</td>\n",
       "    </tr>\n",
       "    <tr>\n",
       "      <th>3</th>\n",
       "      <td>media/posts/202008/116435435_739091703597125_4...</td>\n",
       "      <td>1596483318</td>\n",
       "      <td></td>\n",
       "      <td>NaN</td>\n",
       "    </tr>\n",
       "    <tr>\n",
       "      <th>4</th>\n",
       "      <td>media/posts/202007/110290865_304258537292588_5...</td>\n",
       "      <td>1595446390</td>\n",
       "      <td></td>\n",
       "      <td>NaN</td>\n",
       "    </tr>\n",
       "  </tbody>\n",
       "</table>\n",
       "</div>"
      ],
      "text/plain": [
       "                                                 uri  creation_timestamp  \\\n",
       "0  media/posts/201708/20686656_1954176268136038_3...          1501970774   \n",
       "1  media/posts/201708/20634127_502707613406985_36...          1501731832   \n",
       "2  media/posts/202008/117352955_3525450224132145_...          1597084971   \n",
       "3  media/posts/202008/116435435_739091703597125_4...          1596483318   \n",
       "4  media/posts/202007/110290865_304258537292588_5...          1595446390   \n",
       "\n",
       "                                               title media_metadata  \n",
       "0  Splatoon complete amiibo set. #splatoon #ninte...            NaN  \n",
       "1  Zelda amiibo collection plus figures in front ...            NaN  \n",
       "2  @owelband - \"I Dread The Night\" on red lathe c...            NaN  \n",
       "3                                                               NaN  \n",
       "4                                                               NaN  "
      ]
     },
     "execution_count": 11,
     "metadata": {},
     "output_type": "execute_result"
    }
   ],
   "source": [
    "posts_df.head()"
   ]
  },
  {
   "cell_type": "code",
   "execution_count": null,
   "id": "91f3ac6f",
   "metadata": {},
   "outputs": [],
   "source": []
  },
  {
   "cell_type": "code",
   "execution_count": null,
   "id": "f701cef2",
   "metadata": {},
   "outputs": [],
   "source": []
  },
  {
   "cell_type": "code",
   "execution_count": 12,
   "id": "a1df4cc5",
   "metadata": {},
   "outputs": [],
   "source": [
    "a_day = datetime.utcfromtimestamp(posts_df['creation_timestamp'][0])"
   ]
  },
  {
   "cell_type": "code",
   "execution_count": 13,
   "id": "fe843bb2",
   "metadata": {},
   "outputs": [
    {
     "data": {
      "text/plain": [
       "2017"
      ]
     },
     "execution_count": 13,
     "metadata": {},
     "output_type": "execute_result"
    }
   ],
   "source": [
    "a_day.year"
   ]
  },
  {
   "cell_type": "code",
   "execution_count": 14,
   "id": "7f12cedd",
   "metadata": {},
   "outputs": [
    {
     "data": {
      "text/plain": [
       "8"
      ]
     },
     "execution_count": 14,
     "metadata": {},
     "output_type": "execute_result"
    }
   ],
   "source": [
    "a_day.month"
   ]
  },
  {
   "cell_type": "code",
   "execution_count": 15,
   "id": "8343acf9",
   "metadata": {},
   "outputs": [
    {
     "data": {
      "text/plain": [
       "14"
      ]
     },
     "execution_count": 15,
     "metadata": {},
     "output_type": "execute_result"
    }
   ],
   "source": [
    "a_day.second"
   ]
  },
  {
   "cell_type": "code",
   "execution_count": 16,
   "id": "f4fef951",
   "metadata": {},
   "outputs": [
    {
     "data": {
      "text/plain": [
       "22"
      ]
     },
     "execution_count": 16,
     "metadata": {},
     "output_type": "execute_result"
    }
   ],
   "source": [
    "a_day.hour"
   ]
  },
  {
   "cell_type": "code",
   "execution_count": 17,
   "id": "ca528308",
   "metadata": {},
   "outputs": [],
   "source": [
    "another_day = datetime.utcfromtimestamp(posts_df['creation_timestamp'][80])"
   ]
  },
  {
   "cell_type": "code",
   "execution_count": 18,
   "id": "d3efdaea",
   "metadata": {},
   "outputs": [
    {
     "data": {
      "text/plain": [
       "datetime.timedelta(days=145, seconds=2536)"
      ]
     },
     "execution_count": 18,
     "metadata": {},
     "output_type": "execute_result"
    }
   ],
   "source": [
    "another_day - a_day"
   ]
  },
  {
   "cell_type": "code",
   "execution_count": 19,
   "id": "5e39a244",
   "metadata": {},
   "outputs": [
    {
     "data": {
      "text/plain": [
       "False"
      ]
     },
     "execution_count": 19,
     "metadata": {},
     "output_type": "execute_result"
    }
   ],
   "source": [
    "another_day < a_day"
   ]
  },
  {
   "cell_type": "code",
   "execution_count": 20,
   "id": "37699102",
   "metadata": {},
   "outputs": [],
   "source": [
    "import numpy"
   ]
  },
  {
   "cell_type": "code",
   "execution_count": 21,
   "id": "d5b044f6",
   "metadata": {},
   "outputs": [
    {
     "data": {
      "text/plain": [
       "numpy.int64"
      ]
     },
     "execution_count": 21,
     "metadata": {},
     "output_type": "execute_result"
    }
   ],
   "source": [
    "type(posts_df['creation_timestamp'][80])"
   ]
  },
  {
   "cell_type": "code",
   "execution_count": 22,
   "id": "2b23dacc",
   "metadata": {},
   "outputs": [
    {
     "data": {
      "text/plain": [
       "True"
      ]
     },
     "execution_count": 22,
     "metadata": {},
     "output_type": "execute_result"
    }
   ],
   "source": [
    "type(posts_df['creation_timestamp'][80]) == numpy.int64"
   ]
  },
  {
   "cell_type": "code",
   "execution_count": 23,
   "id": "5226826d",
   "metadata": {},
   "outputs": [],
   "source": [
    "posts_df['datetimes'] = [datetime.utcfromtimestamp(x) if type(x) == int else 0 for x in posts_df['creation_timestamp']]"
   ]
  },
  {
   "cell_type": "code",
   "execution_count": 24,
   "id": "c272d843",
   "metadata": {},
   "outputs": [],
   "source": [
    "posts_df['datetimes'] = [datetime.utcfromtimestamp(x) if type(x) == int else datetime.utcfromtimestamp(0) for x in posts_df['creation_timestamp']]"
   ]
  },
  {
   "cell_type": "code",
   "execution_count": 25,
   "id": "8d4e33b6",
   "metadata": {},
   "outputs": [
    {
     "data": {
      "text/html": [
       "<div>\n",
       "<style scoped>\n",
       "    .dataframe tbody tr th:only-of-type {\n",
       "        vertical-align: middle;\n",
       "    }\n",
       "\n",
       "    .dataframe tbody tr th {\n",
       "        vertical-align: top;\n",
       "    }\n",
       "\n",
       "    .dataframe thead th {\n",
       "        text-align: right;\n",
       "    }\n",
       "</style>\n",
       "<table border=\"1\" class=\"dataframe\">\n",
       "  <thead>\n",
       "    <tr style=\"text-align: right;\">\n",
       "      <th></th>\n",
       "      <th>uri</th>\n",
       "      <th>creation_timestamp</th>\n",
       "      <th>title</th>\n",
       "      <th>media_metadata</th>\n",
       "      <th>datetimes</th>\n",
       "    </tr>\n",
       "  </thead>\n",
       "  <tbody>\n",
       "    <tr>\n",
       "      <th>0</th>\n",
       "      <td>media/posts/201708/20686656_1954176268136038_3...</td>\n",
       "      <td>1501970774</td>\n",
       "      <td>Splatoon complete amiibo set. #splatoon #ninte...</td>\n",
       "      <td>NaN</td>\n",
       "      <td>2017-08-05 22:06:14</td>\n",
       "    </tr>\n",
       "    <tr>\n",
       "      <th>1</th>\n",
       "      <td>media/posts/201708/20634127_502707613406985_36...</td>\n",
       "      <td>1501731832</td>\n",
       "      <td>Zelda amiibo collection plus figures in front ...</td>\n",
       "      <td>NaN</td>\n",
       "      <td>2017-08-03 03:43:52</td>\n",
       "    </tr>\n",
       "    <tr>\n",
       "      <th>2</th>\n",
       "      <td>media/posts/202008/117352955_3525450224132145_...</td>\n",
       "      <td>1597084971</td>\n",
       "      <td>@owelband - \"I Dread The Night\" on red lathe c...</td>\n",
       "      <td>NaN</td>\n",
       "      <td>2020-08-10 18:42:51</td>\n",
       "    </tr>\n",
       "    <tr>\n",
       "      <th>3</th>\n",
       "      <td>media/posts/202008/116435435_739091703597125_4...</td>\n",
       "      <td>1596483318</td>\n",
       "      <td></td>\n",
       "      <td>NaN</td>\n",
       "      <td>2020-08-03 19:35:18</td>\n",
       "    </tr>\n",
       "    <tr>\n",
       "      <th>4</th>\n",
       "      <td>media/posts/202007/110290865_304258537292588_5...</td>\n",
       "      <td>1595446390</td>\n",
       "      <td></td>\n",
       "      <td>NaN</td>\n",
       "      <td>2020-07-22 19:33:10</td>\n",
       "    </tr>\n",
       "  </tbody>\n",
       "</table>\n",
       "</div>"
      ],
      "text/plain": [
       "                                                 uri  creation_timestamp  \\\n",
       "0  media/posts/201708/20686656_1954176268136038_3...          1501970774   \n",
       "1  media/posts/201708/20634127_502707613406985_36...          1501731832   \n",
       "2  media/posts/202008/117352955_3525450224132145_...          1597084971   \n",
       "3  media/posts/202008/116435435_739091703597125_4...          1596483318   \n",
       "4  media/posts/202007/110290865_304258537292588_5...          1595446390   \n",
       "\n",
       "                                               title media_metadata  \\\n",
       "0  Splatoon complete amiibo set. #splatoon #ninte...            NaN   \n",
       "1  Zelda amiibo collection plus figures in front ...            NaN   \n",
       "2  @owelband - \"I Dread The Night\" on red lathe c...            NaN   \n",
       "3                                                               NaN   \n",
       "4                                                               NaN   \n",
       "\n",
       "            datetimes  \n",
       "0 2017-08-05 22:06:14  \n",
       "1 2017-08-03 03:43:52  \n",
       "2 2020-08-10 18:42:51  \n",
       "3 2020-08-03 19:35:18  \n",
       "4 2020-07-22 19:33:10  "
      ]
     },
     "execution_count": 25,
     "metadata": {},
     "output_type": "execute_result"
    }
   ],
   "source": [
    "posts_df.head()"
   ]
  },
  {
   "cell_type": "code",
   "execution_count": 26,
   "id": "5f2c3a00",
   "metadata": {},
   "outputs": [],
   "source": [
    "posts_df = posts_df.sort_values('datetimes')"
   ]
  },
  {
   "cell_type": "code",
   "execution_count": 27,
   "id": "551d0684",
   "metadata": {},
   "outputs": [],
   "source": [
    "posts_df['deltas_since_first_post'] = [x - posts_df['datetimes'].iloc[0] for x in posts_df['datetimes']]"
   ]
  },
  {
   "cell_type": "code",
   "execution_count": 28,
   "id": "06fe08e2",
   "metadata": {},
   "outputs": [],
   "source": [
    "posts_df['days_since_first_post'] = [x.days for x in posts_df['deltas_since_first_post']]"
   ]
  },
  {
   "cell_type": "code",
   "execution_count": 29,
   "id": "62906804",
   "metadata": {},
   "outputs": [
    {
     "data": {
      "text/html": [
       "<div>\n",
       "<style scoped>\n",
       "    .dataframe tbody tr th:only-of-type {\n",
       "        vertical-align: middle;\n",
       "    }\n",
       "\n",
       "    .dataframe tbody tr th {\n",
       "        vertical-align: top;\n",
       "    }\n",
       "\n",
       "    .dataframe thead th {\n",
       "        text-align: right;\n",
       "    }\n",
       "</style>\n",
       "<table border=\"1\" class=\"dataframe\">\n",
       "  <thead>\n",
       "    <tr style=\"text-align: right;\">\n",
       "      <th></th>\n",
       "      <th>uri</th>\n",
       "      <th>creation_timestamp</th>\n",
       "      <th>title</th>\n",
       "      <th>media_metadata</th>\n",
       "      <th>datetimes</th>\n",
       "      <th>deltas_since_first_post</th>\n",
       "      <th>days_since_first_post</th>\n",
       "    </tr>\n",
       "  </thead>\n",
       "  <tbody>\n",
       "    <tr>\n",
       "      <th>1</th>\n",
       "      <td>media/posts/201708/20634127_502707613406985_36...</td>\n",
       "      <td>1501731832</td>\n",
       "      <td>Zelda amiibo collection plus figures in front ...</td>\n",
       "      <td>NaN</td>\n",
       "      <td>2017-08-03 03:43:52</td>\n",
       "      <td>0 days 00:00:00</td>\n",
       "      <td>0</td>\n",
       "    </tr>\n",
       "    <tr>\n",
       "      <th>0</th>\n",
       "      <td>media/posts/201708/20686656_1954176268136038_3...</td>\n",
       "      <td>1501970774</td>\n",
       "      <td>Splatoon complete amiibo set. #splatoon #ninte...</td>\n",
       "      <td>NaN</td>\n",
       "      <td>2017-08-05 22:06:14</td>\n",
       "      <td>2 days 18:22:22</td>\n",
       "      <td>2</td>\n",
       "    </tr>\n",
       "    <tr>\n",
       "      <th>101</th>\n",
       "      <td>media/posts/201708/20904957_475892022775281_90...</td>\n",
       "      <td>1502910433</td>\n",
       "      <td></td>\n",
       "      <td>NaN</td>\n",
       "      <td>2017-08-16 19:07:13</td>\n",
       "      <td>13 days 15:23:21</td>\n",
       "      <td>13</td>\n",
       "    </tr>\n",
       "    <tr>\n",
       "      <th>100</th>\n",
       "      <td>media/posts/201708/21042113_167674953801082_19...</td>\n",
       "      <td>1503707622</td>\n",
       "      <td>Lyrics of the song \"I Am Not Yours\" by Owel ha...</td>\n",
       "      <td>NaN</td>\n",
       "      <td>2017-08-26 00:33:42</td>\n",
       "      <td>22 days 20:49:50</td>\n",
       "      <td>22</td>\n",
       "    </tr>\n",
       "    <tr>\n",
       "      <th>99</th>\n",
       "      <td>media/posts/201708/21225011_258560364653832_45...</td>\n",
       "      <td>1504215690</td>\n",
       "      <td>Mario + Rabbids: Kingdom Battle plus free Rabb...</td>\n",
       "      <td>NaN</td>\n",
       "      <td>2017-08-31 21:41:30</td>\n",
       "      <td>28 days 17:57:38</td>\n",
       "      <td>28</td>\n",
       "    </tr>\n",
       "  </tbody>\n",
       "</table>\n",
       "</div>"
      ],
      "text/plain": [
       "                                                   uri  creation_timestamp  \\\n",
       "1    media/posts/201708/20634127_502707613406985_36...          1501731832   \n",
       "0    media/posts/201708/20686656_1954176268136038_3...          1501970774   \n",
       "101  media/posts/201708/20904957_475892022775281_90...          1502910433   \n",
       "100  media/posts/201708/21042113_167674953801082_19...          1503707622   \n",
       "99   media/posts/201708/21225011_258560364653832_45...          1504215690   \n",
       "\n",
       "                                                 title media_metadata  \\\n",
       "1    Zelda amiibo collection plus figures in front ...            NaN   \n",
       "0    Splatoon complete amiibo set. #splatoon #ninte...            NaN   \n",
       "101                                                               NaN   \n",
       "100  Lyrics of the song \"I Am Not Yours\" by Owel ha...            NaN   \n",
       "99   Mario + Rabbids: Kingdom Battle plus free Rabb...            NaN   \n",
       "\n",
       "              datetimes deltas_since_first_post  days_since_first_post  \n",
       "1   2017-08-03 03:43:52         0 days 00:00:00                      0  \n",
       "0   2017-08-05 22:06:14         2 days 18:22:22                      2  \n",
       "101 2017-08-16 19:07:13        13 days 15:23:21                     13  \n",
       "100 2017-08-26 00:33:42        22 days 20:49:50                     22  \n",
       "99  2017-08-31 21:41:30        28 days 17:57:38                     28  "
      ]
     },
     "execution_count": 29,
     "metadata": {},
     "output_type": "execute_result"
    }
   ],
   "source": [
    "posts_df.head()"
   ]
  },
  {
   "cell_type": "code",
   "execution_count": null,
   "id": "37bf9b06",
   "metadata": {},
   "outputs": [],
   "source": []
  },
  {
   "cell_type": "code",
   "execution_count": null,
   "id": "eb6fee20",
   "metadata": {},
   "outputs": [],
   "source": []
  },
  {
   "cell_type": "code",
   "execution_count": null,
   "id": "1ce5b196",
   "metadata": {},
   "outputs": [],
   "source": []
  },
  {
   "cell_type": "markdown",
   "id": "14341508",
   "metadata": {},
   "source": [
    "# October 28th in class"
   ]
  },
  {
   "cell_type": "markdown",
   "id": "f18f2777",
   "metadata": {},
   "source": []
  },
  {
   "cell_type": "markdown",
   "id": "f4b6eed8",
   "metadata": {},
   "source": [
    "# histograms"
   ]
  },
  {
   "cell_type": "code",
   "execution_count": null,
   "id": "7b3158c8",
   "metadata": {},
   "outputs": [],
   "source": []
  },
  {
   "cell_type": "code",
   "execution_count": 30,
   "id": "66c83762",
   "metadata": {},
   "outputs": [],
   "source": [
    "from matplotlib import pyplot as plt"
   ]
  },
  {
   "cell_type": "markdown",
   "id": "aa3895fe",
   "metadata": {},
   "source": [
    "numers in the parenthesis after plt.subplots = number of columns and rows\n",
    "\n",
    "\n",
    "i missed why to put 0 after fig and ax (i think just to like name it)\n",
    "\n",
    "frequency of posts in a time from. for ex: 0 through 100 days from first post i made almost 25 posts\n",
    "\n",
    "bins changes number of detail."
   ]
  },
  {
   "cell_type": "code",
   "execution_count": 41,
   "id": "150cd8f1",
   "metadata": {},
   "outputs": [
    {
     "data": {
      "image/png": "[encoded data removed]",
      "text/plain": [
       "<Figure size 432x288 with 1 Axes>"
      ]
     },
     "metadata": {
      "needs_background": "light"
     },
     "output_type": "display_data"
    }
   ],
   "source": [
    "fig0, ax0 = plt.subplots(1, 1)\n",
    "\n",
    "plt.show()"
   ]
  },
  {
   "cell_type": "markdown",
   "id": "6e964541",
   "metadata": {},
   "source": [
    "two columns and two rows of graphs"
   ]
  },
  {
   "cell_type": "code",
   "execution_count": 42,
   "id": "23da3b64",
   "metadata": {},
   "outputs": [
    {
     "data": {
      "image/png": "[encoded data removed]",
      "text/plain": [
       "<Figure size 432x288 with 4 Axes>"
      ]
     },
     "metadata": {
      "needs_background": "light"
     },
     "output_type": "display_data"
    }
   ],
   "source": [
    "fig0, ax0 = plt.subplots(2, 2)\n",
    "\n",
    "plt.show()"
   ]
  },
  {
   "cell_type": "markdown",
   "id": "599cde34",
   "metadata": {},
   "source": [
    "this uses my instagram data.\n",
    "\n",
    "each bar represents a number of posts made in a given time. For example, the first bar represents about 25 posts made in 100 days"
   ]
  },
  {
   "cell_type": "code",
   "execution_count": 43,
   "id": "46a702a1",
   "metadata": {},
   "outputs": [
    {
     "data": {
      "image/png": "[encoded data removed]",
      "text/plain": [
       "<Figure size 432x288 with 1 Axes>"
      ]
     },
     "metadata": {
      "needs_background": "light"
     },
     "output_type": "display_data"
    }
   ],
   "source": [
    "fig0, ax0 = plt.subplots(1, 1)\n",
    "ax0.hist(posts_df['days_since_first_post'])\n",
    "plt.show()"
   ]
  },
  {
   "cell_type": "markdown",
   "id": "df844237",
   "metadata": {},
   "source": [
    "bins, iirc, essentially expand that data to make it more detailed. For example, the first bar is no longer for 100 days but for a shorter amount of time."
   ]
  },
  {
   "cell_type": "code",
   "execution_count": 40,
   "id": "1aa1a3c3",
   "metadata": {},
   "outputs": [
    {
     "data": {
      "image/png": "[encoded data removed]",
      "text/plain": [
       "<Figure size 432x288 with 1 Axes>"
      ]
     },
     "metadata": {
      "needs_background": "light"
     },
     "output_type": "display_data"
    }
   ],
   "source": [
    "fig0, ax0 = plt.subplots(1, 1)\n",
    "ax0.hist(posts_df['days_since_first_post'], bins = 100)\n",
    "plt.show()"
   ]
  },
  {
   "cell_type": "code",
   "execution_count": 44,
   "id": "a1eb02a9",
   "metadata": {},
   "outputs": [
    {
     "data": {
      "image/png": "[encoded data removed]",
      "text/plain": [
       "<Figure size 432x288 with 1 Axes>"
      ]
     },
     "metadata": {
      "needs_background": "light"
     },
     "output_type": "display_data"
    }
   ],
   "source": [
    "fig0, ax0 = plt.subplots(1, 1)\n",
    "ax0.hist(posts_df['days_since_first_post'], bins = 15)\n",
    "plt.show()"
   ]
  },
  {
   "cell_type": "markdown",
   "id": "b0bc43ae",
   "metadata": {},
   "source": [
    "This creates 3 histograms and puts in the data on the 1th column.\n",
    "\n",
    "need [1] after calling ax0 (which btw it can be anything: ax, ax1, ax2, etc i think as long as you call it the same as the first line"
   ]
  },
  {
   "cell_type": "code",
   "execution_count": 45,
   "id": "cd61b181",
   "metadata": {},
   "outputs": [
    {
     "data": {
      "image/png": "[encoded data removed]",
      "text/plain": [
       "<Figure size 432x288 with 3 Axes>"
      ]
     },
     "metadata": {
      "needs_background": "light"
     },
     "output_type": "display_data"
    }
   ],
   "source": [
    "fig0, ax0 = plt.subplots(1, 3)\n",
    "ax0[1].hist(posts_df['days_since_first_post'], bins = 15)\n",
    "\n",
    "plt.show()"
   ]
  },
  {
   "cell_type": "markdown",
   "id": "3a899305",
   "metadata": {},
   "source": [
    "this creates 2 columns and 2 rows of histograms and shows you need  [0, 1] after ax0 to put data in the top right histogram"
   ]
  },
  {
   "cell_type": "code",
   "execution_count": 46,
   "id": "e58d4bb2",
   "metadata": {},
   "outputs": [
    {
     "data": {
      "image/png": "[encoded data removed]",
      "text/plain": [
       "<Figure size 432x288 with 4 Axes>"
      ]
     },
     "metadata": {
      "needs_background": "light"
     },
     "output_type": "display_data"
    }
   ],
   "source": [
    "fig0, ax0 = plt.subplots(2, 2)\n",
    "\n",
    "ax0[0, 1].hist(posts_df['days_since_first_post'], bins = 10)\n",
    "\n",
    "plt.show()"
   ]
  },
  {
   "cell_type": "markdown",
   "id": "17c096ac",
   "metadata": {},
   "source": [
    "this shows how to put data in the other histograms and how each can have different level of bins"
   ]
  },
  {
   "cell_type": "code",
   "execution_count": 47,
   "id": "162e0725",
   "metadata": {},
   "outputs": [
    {
     "data": {
      "image/png": "[encoded data removed]",
      "text/plain": [
       "<Figure size 432x288 with 4 Axes>"
      ]
     },
     "metadata": {
      "needs_background": "light"
     },
     "output_type": "display_data"
    }
   ],
   "source": [
    "fig0, ax0 = plt.subplots(2, 2)\n",
    "ax0[0, 0].hist(posts_df['days_since_first_post'], bins = 5)\n",
    "ax0[0, 1].hist(posts_df['days_since_first_post'], bins = 10)\n",
    "ax0[1, 0].hist(posts_df['days_since_first_post'], bins = 15)\n",
    "ax0[1, 1].hist(posts_df['days_since_first_post'], bins = 20)\n",
    "plt.show()"
   ]
  },
  {
   "cell_type": "markdown",
   "id": "8721b8d5",
   "metadata": {},
   "source": [
    "this shows using figsize to increase the size of the histograms and how to also add titles to each histogram."
   ]
  },
  {
   "cell_type": "code",
   "execution_count": 51,
   "id": "ec1d441b",
   "metadata": {},
   "outputs": [
    {
     "data": {
      "image/png": "[encoded data removed]",
      "text/plain": [
       "<Figure size 720x720 with 4 Axes>"
      ]
     },
     "metadata": {
      "needs_background": "light"
     },
     "output_type": "display_data"
    }
   ],
   "source": [
    "fig0, ax0 = plt.subplots(2, 2, figsize = (10, 10))\n",
    "ax0[0, 0].hist(posts_df['days_since_first_post'], bins = 5)\n",
    "ax0[0, 0].title.set_text(\"bins = 5\")\n",
    "ax0[0, 1].hist(posts_df['days_since_first_post'], bins = 10)\n",
    "ax0[0, 1].title.set_text(\"bins = 10\")\n",
    "ax0[1, 0].hist(posts_df['days_since_first_post'], bins = 15)\n",
    "ax0[1, 0].title.set_text(\"bins = 15\")\n",
    "ax0[1, 1].hist(posts_df['days_since_first_post'], bins = 20)\n",
    "ax0[1, 1].title.set_text(\"bins = 20\")\n",
    "plt.show()"
   ]
  },
  {
   "cell_type": "markdown",
   "id": "8afe493c",
   "metadata": {},
   "source": [
    "alpha = shading of bars\n",
    "can layer on top of each other, hence why bars are purple\n",
    "can also have two different data sets on top of each other.\n",
    "\n",
    "ex.\n",
    "ax2.hist(Instagram_posts_df['days_since_first_post'], bins = 15, color = 'red', alpha = .5)\n",
    "ax2.hist(Facebook_posts_df['days_since_first_post'], bins = 15, color = 'blue', alpha = .5)\n",
    "\n",
    "he went fast and said you didnt need to follow along hence why i only have the color example and not an example of two graphs on top of each other"
   ]
  },
  {
   "cell_type": "code",
   "execution_count": 54,
   "id": "750ad668",
   "metadata": {},
   "outputs": [
    {
     "data": {
      "image/png": "[encoded data removed]",
      "text/plain": [
       "<Figure size 360x360 with 1 Axes>"
      ]
     },
     "metadata": {
      "needs_background": "light"
     },
     "output_type": "display_data"
    }
   ],
   "source": [
    "fig2, ax2 = plt.subplots(1, 1, figsize = (5, 5))\n",
    "ax2.hist(posts_df['days_since_first_post'], bins = 15, color = 'red', alpha = .5)\n",
    "ax2.hist(posts_df['days_since_first_post'], bins = 15, color = 'blue', alpha = .5)\n",
    "plt.show()"
   ]
  },
  {
   "cell_type": "code",
   "execution_count": null,
   "id": "13abfe98",
   "metadata": {},
   "outputs": [],
   "source": []
  },
  {
   "cell_type": "code",
   "execution_count": null,
   "id": "09f23dc8",
   "metadata": {},
   "outputs": [],
   "source": []
  },
  {
   "cell_type": "markdown",
   "id": "8b58afb4",
   "metadata": {},
   "source": [
    "# Box plots\n",
    "\n",
    "this shit is literally copied and pasted from canvas lol.\n",
    "\n",
    "the \"data\" thats used is in the 2nd cell. seems like you can also just your time stamp data. unsure how useful it is he had us do this section on our own.\n",
    "\n",
    "\"visual of a uni-variable distribution.\"\n",
    "boxplots measure \"central tendency\"\n",
    "usually show 68% of data. box shows the mean of the data. \"whiskers\" on the side show deviation. \n",
    "\n",
    "if this doesnt make sense im sorry he always goes so fast when trying to copy down other things lol.\n",
    "box plots seem to show the mean of data (using the box in the middle) and deviations (the lines to the side of it, called whiskers)"
   ]
  },
  {
   "cell_type": "code",
   "execution_count": null,
   "id": "318c0eee",
   "metadata": {},
   "outputs": [],
   "source": []
  },
  {
   "cell_type": "code",
   "execution_count": 55,
   "id": "96c75d20",
   "metadata": {},
   "outputs": [],
   "source": [
    "import matplotlib.pyplot as plt\n",
    "import numpy as np\n",
    "from matplotlib.patches import Polygon"
   ]
  },
  {
   "cell_type": "code",
   "execution_count": 56,
   "id": "908e9ca4",
   "metadata": {},
   "outputs": [],
   "source": [
    "spread = np.random.rand(50) * 100\n",
    "center = np.ones(25) * 50\n",
    "flier_high = np.random.rand(10) * 100 + 100\n",
    "flier_low = np.random.rand(10) * -100\n",
    "data = np.concatenate((spread, center, flier_high, flier_low))\n"
   ]
  },
  {
   "cell_type": "code",
   "execution_count": 68,
   "id": "e4ebdb53",
   "metadata": {},
   "outputs": [
    {
     "data": {
      "image/png": "[encoded data removed]",
      "text/plain": [
       "<Figure size 432x288 with 6 Axes>"
      ]
     },
     "metadata": {
      "needs_background": "light"
     },
     "output_type": "display_data"
    }
   ],
   "source": [
    "fig, axs = plt.subplots(2, 3)\n",
    "\n",
    "axs[0, 0].boxplot(posts_df['days_since_first_post'])\n",
    "axs[0, 0].set_title('basic plot')\n",
    "\n",
    "axs[0, 1].boxplot(data, 1)\n",
    "axs[0, 1].set_title('notched plot')\n",
    "\n",
    "axs[0, 2].boxplot(data, 0, 'gD')\n",
    "axs[0, 2].set_title('change outlier\\npoint symbols')\n",
    "\n",
    "axs[1, 0].boxplot(data, 0, '')\n",
    "axs[1, 0].set_title(\"don't show\\noutlier points\")\n",
    "\n",
    "axs[1, 1].boxplot(data, 0, 'rs', 0)\n",
    "axs[1, 1].set_title('horizontal boxes')\n",
    "\n",
    "axs[1, 2].boxplot(data, 0, 'rs', 0, 0.75)\n",
    "axs[1, 2].set_title('change whisker length')\n",
    "\n",
    "\n",
    "plt.show()"
   ]
  },
  {
   "cell_type": "code",
   "execution_count": null,
   "id": "b272ecf2",
   "metadata": {},
   "outputs": [],
   "source": []
  },
  {
   "cell_type": "markdown",
   "id": "367c7565",
   "metadata": {},
   "source": [
    "# pie charts"
   ]
  },
  {
   "cell_type": "markdown",
   "id": "62bd0b3b",
   "metadata": {},
   "source": [
    "again copied from canvas\n",
    "\n",
    "we didnt have time to really work and finish this."
   ]
  },
  {
   "cell_type": "code",
   "execution_count": null,
   "id": "e14b371f",
   "metadata": {},
   "outputs": [],
   "source": [
    "labels = 'Frogs', 'Hogs', 'Dogs', 'Logs'\n",
    "sizes = [15, 30, 45, 10]\n",
    "explode = (0, 0.1, 0, 0)  # only \"explode\" the 2nd slice (i.e. 'Hogs')\n",
    "\n",
    "fig1, ax1 = plt.subplots()\n",
    "ax1.pie(sizes, explode=explode, labels=labels, autopct='%1.1f%%',\n",
    "        shadow=True, startangle=90)\n",
    "ax1.axis('equal')  # Equal aspect ratio ensures that pie is drawn as a circle."
   ]
  },
  {
   "cell_type": "code",
   "execution_count": null,
   "id": "1dab2658",
   "metadata": {},
   "outputs": [],
   "source": []
  },
  {
   "cell_type": "markdown",
   "id": "96e6ddf2",
   "metadata": {},
   "source": [
    "# non-class related notes. guest came in.\n",
    "\n",
    "\n",
    "looks like we are stopping here. someone came in to talk about two classes for next semester.\n",
    "\n",
    "\"immersive media and journalism (mdj 40295)\n",
    "-making 360 degree videos for virtual reality\n",
    "\n",
    "anowitz@kent.edu\n",
    "contact to wave requirements to get in class\n",
    "\n",
    "\"Children's Lit in Augmented Reality\" EMAT 35091 or DI 30100\n",
    "-how can ar be used for new forms of innovative children's literature?\n",
    "emat - more technical\n",
    "di - design thinking to develop innovative solutions\n",
    "\n",
    "jrcamp@kent.edu (jr campbell. permission to register for di section)\n",
    "\n"
   ]
  }
 ],
 "metadata": {
  "kernelspec": {
   "display_name": "Python 3 (ipykernel)",
   "language": "python",
   "name": "python3"
  },
  "language_info": {
   "codemirror_mode": {
    "name": "ipython",
    "version": 3
   },
   "file_extension": ".py",
   "mimetype": "text/x-python",
   "name": "python",
   "nbconvert_exporter": "python",
   "pygments_lexer": "ipython3",
   "version": "3.9.6"
  }
 },
 "nbformat": 4,
 "nbformat_minor": 5
}
